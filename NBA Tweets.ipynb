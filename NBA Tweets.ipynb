{
 "cells": [
  {
   "cell_type": "markdown",
   "metadata": {},
   "source": [
    "## NBA Tweets: Natural Language Processing and Network Analysis\n",
    "\n",
    "MSDA Data 620 Final Project \n",
    "\n",
    "Team 4 - John Grando, Nick Capofari, Ken Markus, Armenoush Aslanian-Persico, Andrew Goldberg\n",
    "\n"
   ]
  },
  {
   "cell_type": "markdown",
   "metadata": {},
   "source": [
    "[Header image/logo] /////////////////////////////////////////"
   ]
  },
  {
   "cell_type": "markdown",
   "metadata": {},
   "source": [
    "### Part 1: Introduction\n",
    "\n",
    "[Explanation of the NBA, Teams, Players, potential networks; why this interests us; how we selected our group of 23 Twitter users and what their significance is; what we expect to find or answer; about the NBA season/offseason; influence of these individuals]\n",
    "\n",
    "YouTube walkthroughs of this project are available here:\n",
    "\n",
    "Data acquisition: https://youtu.be/onedOIidyU0\n",
    "\n",
    "Natural Language Processing: \n",
    "\n",
    "Network analysis:"
   ]
  },
  {
   "cell_type": "markdown",
   "metadata": {},
   "source": [
    "### Part 2: Data acquisition\n",
    "\n",
    "We collected recent tweets from the most active NBA players (and associates) via the Twitter Search API. The API allows for basic search queries (e.g. to: or from: a specific handle, or containing a specific hashtag). However, there are certain limitations with the public-facing API:\n",
    "\n",
    "-Results are limited to the last 7 days\n",
    "\n",
    "-Return sets are limited in size, the documentation states only 7 tweets are returned in each query; however in practice we were able to pull upwards of 50 tweets per query.\n",
    "\n",
    "An alternative to Twitter’s Search API is their Streaming API, which returns real-time results. We attempted to leverage this option, however the result sets were actually smaller because the players and associates were simply not active enough on Twitter to yield more results.\n",
    "\n",
    "Once tokens were acquired, performing the data pulls proved relatively simple. We leveraged package SocialMediaLab to facilitate the formatting of the data. This package contains wrappers for Facebook and Instagram APIs in addition to Twitter. The encapsulation of credentials, and formatting of tweet data are the primary benefits.\n",
    "\n",
    "The output data derives from the twitteR package, of the status-class class.\n",
    "\n",
    "#### Field data dictionary\n",
    "\n",
    "The below are variable fields available in the API pull data.\n",
    "\n",
    "text: The text of the status.\n",
    "\n",
    "screenName: Screenname of the user who posted the status.\n",
    "\n",
    "id: ID of the status.\n",
    "\n",
    "replyToSN: Screen name of the user this is in reply to.\n",
    "\n",
    "replyTOUID: ID of the user this was in reply to.\n",
    "\n",
    "statusSource: Source user agent for this tweet.\n",
    "\n",
    "created: When this status was created.\n",
    "\n",
    "truncated: Whether this status was truncated.\n",
    "\n",
    "favorited: Whether this status has been favorited.\n",
    "\n",
    "retweeted: TRUE if this status has been retweeted.\n",
    "\n",
    "retweetCount: The number of times this status has been retweeeted.\n",
    "\n",
    "<a href=\"https://github.com/kennygfm/Data620/blob/master/Team4_FinalProject_buildTwitterDataFrame_V7.9.R\">View source code on github.</a>\n"
   ]
  },
  {
   "cell_type": "markdown",
   "metadata": {},
   "source": [
    "### Part 3: Data setup and packages"
   ]
  },
  {
   "cell_type": "code",
   "execution_count": 47,
   "metadata": {},
   "outputs": [
    {
     "data": {
      "application/javascript": [
       "\n",
       "Jupyter.keyboard_manager.command_shortcuts.add_shortcut('m', { \n",
       "    // # added keyboard shortcut for Jupyter - Ctrl+M, then m runs all cells\n",
       "    help : 'run all cells',\n",
       "    help_index : 'zz',\n",
       "    handler : function (event) {\n",
       "        IPython.notebook.execute_all_cells();\n",
       "        return false;\n",
       "    }}\n",
       ");"
      ],
      "text/plain": [
       "<IPython.core.display.Javascript object>"
      ]
     },
     "metadata": {},
     "output_type": "display_data"
    }
   ],
   "source": [
    "%%javascript\n",
    "\n",
    "Jupyter.keyboard_manager.command_shortcuts.add_shortcut('m', { \n",
    "    // # added keyboard shortcut for Jupyter - Ctrl+M, then m runs all cells\n",
    "    help : 'run all cells',\n",
    "    help_index : 'zz',\n",
    "    handler : function (event) {\n",
    "        IPython.notebook.execute_all_cells();\n",
    "        return false;\n",
    "    }}\n",
    ");"
   ]
  },
  {
   "cell_type": "code",
   "execution_count": 48,
   "metadata": {
    "collapsed": true
   },
   "outputs": [],
   "source": [
    "import networkx as nx\n",
    "import networkx.algorithms\n",
    "import networkx.algorithms.bipartite as bipartite\n",
    "import matplotlib.pyplot as plt\n",
    "import numpy\n",
    "import pandas as pd\n",
    "import pylab as py\n",
    "import nltk\n",
    "\n",
    "from networkx.algorithms.components.connected import connected_components\n",
    "from scipy.spatial import distance\n",
    "from scipy.cluster import hierarchy\n",
    "from collections import defaultdict\n",
    "\n",
    "% matplotlib inline"
   ]
  },
  {
   "cell_type": "markdown",
   "metadata": {},
   "source": [
    "### Part 4: Natural Language Processing"
   ]
  },
  {
   "cell_type": "markdown",
   "metadata": {},
   "source": [
    "[Introduction to NLP section]***************************************\n"
   ]
  },
  {
   "cell_type": "code",
   "execution_count": null,
   "metadata": {
    "collapsed": true
   },
   "outputs": [],
   "source": [
    "playerdf = pd.read_csv(\"playerList.csv\")\n",
    "tweetdf = pd.read_csv(\"Top20Tweets_and_Teams_and_Ancillary.csv\")\n",
    "#print playerdf, tweetdf"
   ]
  },
  {
   "cell_type": "code",
   "execution_count": null,
   "metadata": {
    "collapsed": true
   },
   "outputs": [],
   "source": [
    "maindf = tweetdf.merge(playerdf, how='left', left_on=\"from_user\", right_on=\"handle\")\n",
    "#Check if there are any nulls or NaNs in the joined data.\n",
    "print maindf.isnull().sum()"
   ]
  },
  {
   "cell_type": "code",
   "execution_count": null,
   "metadata": {
    "collapsed": true
   },
   "outputs": [],
   "source": [
    "import re\n",
    "tweetlist = []\n",
    "for index, row in maindf.iterrows():\n",
    "    uni_list = []\n",
    "    word_list = []\n",
    "    hashtag_list = []\n",
    "    mention_list = []\n",
    "    #get just unicode tags\n",
    "    uni_list = [i for i in re.findall(r'[^\\w\\s,!@#/\\.\\:\\'\\\"]', row[\"text\"].decode(\"utf8\"))]\n",
    "    #get words\n",
    "    word_list = [re.sub('[\\W]+','', word).lower() for word in row[\"text\"].decode(\"utf8\").split() if word[0].isalnum()]\n",
    "    #get hashtags\n",
    "    hashtag_list = [word for word in row[\"text\"].decode(\"utf8\").split() if word[0].startswith(\"#\")]\n",
    "    #get mentions\n",
    "    mention_list = [word for word in row[\"text\"].decode(\"utf8\").split() if word[0].startswith(\"@\")]\n",
    "    #recombine them all and add a tag\n",
    "    tweetlist.append(((uni_list + word_list + hashtag_list + mention_list, row[\"retweetCount\"], \n",
    "                      row[\"users_mentioned\"],row[\"hashtags_used\"]), row[\"active\"]))\n",
    "import random\n",
    "random.seed(222)\n",
    "random.shuffle(tweetlist)\n",
    "#print tweetlist[23]"
   ]
  },
  {
   "cell_type": "code",
   "execution_count": null,
   "metadata": {
    "collapsed": true
   },
   "outputs": [],
   "source": [
    "def twitter_features(tweet, tweetcount, users_mentioned, hashtags_used):\n",
    "    tweet_words = set(tweet)\n",
    "    features = {}\n",
    "    #if nothing is returned from the tweetlist, it's a nan, so I used the isintance(x, float) method to filter.\n",
    "    if not isinstance(users_mentioned, float):\n",
    "        if len(users_mentioned.split(\",\"))>1:\n",
    "            features[\"num_instances({})\".format(\"mentioned_more_than_one\")] = True\n",
    "        else:\n",
    "            features[\"num_instances({})\".format(\"mentioned_more_than_one\")] = False\n",
    "    else:\n",
    "        features[\"num_instances({})\".format(\"mentioned_more_than_one\")] = False\n",
    "    if int(tweetcount) > 1000:\n",
    "        features[\"num_instances({})\".format(\"retweet_count_large\")] = True\n",
    "    else:\n",
    "        features[\"num_instances({})\".format(\"retweet_count_large\")] = False\n",
    "    if not isinstance(hashtags_used, float):\n",
    "        if len(hashtags_used.split(\",\"))>1:\n",
    "            features[\"num_instances({})\".format(\"hashtags_more_than_one\")] = True\n",
    "        else:\n",
    "            features[\"num_instances({})\".format(\"hashtags_more_than_one\")] = False\n",
    "    else:\n",
    "        features[\"num_instances({})\".format(\"hashtags_more_than_one\")] = False\n",
    "    if not isinstance(users_mentioned, float):\n",
    "        for i in [um for um in users_mentioned.split(\",\")]:\n",
    "            features[\"mentioned({})\".format(str(i).strip())] = True\n",
    "    if not isinstance(hashtags_used, float):\n",
    "        for i in [hu for hu in hashtags_used.split(\",\")]:\n",
    "            features[\"hashtag({})\".format(str(i).strip())] = True\n",
    "    return features"
   ]
  },
  {
   "cell_type": "code",
   "execution_count": null,
   "metadata": {
    "collapsed": true
   },
   "outputs": [],
   "source": [
    "featuresets = [(twitter_features(d, rc, um, hu), c) for ((d, rc, um, hu),c) in tweetlist]\n",
    "train_set, dev_test_set, test_set = featuresets[:200], featuresets[200:400], featuresets[400:]\n",
    "classifier = nltk.NaiveBayesClassifier.train(train_set)"
   ]
  },
  {
   "cell_type": "code",
   "execution_count": null,
   "metadata": {
    "collapsed": true
   },
   "outputs": [],
   "source": [
    "print 'Accuracy: %4.2f' %nltk.classify.accuracy(classifier, dev_test_set)\n",
    "classifier.show_most_informative_features(10)"
   ]
  },
  {
   "cell_type": "code",
   "execution_count": null,
   "metadata": {
    "collapsed": true
   },
   "outputs": [],
   "source": [
    "preds = pd.DataFrame({'observed':[classification for (email,classification) in dev_test_set],\n",
    "                      'predicted': [classifier.classify(twitter_features(d, rc, um, hu)) \n",
    "                                    for ((d, rc, um, hu),c) in tweetlist[200:400]]})"
   ]
  },
  {
   "cell_type": "code",
   "execution_count": null,
   "metadata": {
    "collapsed": true
   },
   "outputs": [],
   "source": [
    "pd.crosstab(preds.observed,preds.predicted)"
   ]
  },
  {
   "cell_type": "code",
   "execution_count": null,
   "metadata": {
    "collapsed": true
   },
   "outputs": [],
   "source": [
    "#Confusion matrix, Accuracy, sensitivity and specificity\n",
    "from sklearn.metrics import confusion_matrix\n",
    "cm = confusion_matrix(preds.observed,preds.predicted)\n",
    "sensitivity1 = (float(cm[1,1])/(cm[1,1]+cm[1,0]))\n",
    "print('Sensitivity : ', sensitivity1 )\n",
    "\n",
    "specificity1 = (float(cm[0,0])/(cm[0,0]+cm[0,1]))\n",
    "print('Specificity : ', specificity1)"
   ]
  },
  {
   "cell_type": "code",
   "execution_count": null,
   "metadata": {
    "collapsed": true
   },
   "outputs": [],
   "source": [
    "\n",
    "print 'Accuracy: %4.2f' %nltk.classify.accuracy(classifier, test_set)\n",
    "classifier.show_most_informative_features(10)"
   ]
  },
  {
   "cell_type": "code",
   "execution_count": null,
   "metadata": {
    "collapsed": true
   },
   "outputs": [],
   "source": [
    "perf = pd.DataFrame({'observed':[classification for (email,classification) in test_set],\n",
    "                      'predicted': [classifier.classify(twitter_features(d, rc, um, hu)) \n",
    "                                    for ((d, rc, um, hu),c) in tweetlist[400:]]})\n",
    "pd.crosstab(perf.observed,perf.predicted)"
   ]
  },
  {
   "cell_type": "code",
   "execution_count": null,
   "metadata": {
    "collapsed": true
   },
   "outputs": [],
   "source": [
    "#Confusion matrix, Accuracy, sensitivity and specificity\n",
    "from sklearn.metrics import confusion_matrix\n",
    "cm = confusion_matrix(perf.observed,perf.predicted)\n",
    "sensitivity1 = (float(cm[1,1])/(cm[1,1]+cm[1,0]))\n",
    "print('Sensitivity : ', sensitivity1 )\n",
    "\n",
    "specificity1 = (float(cm[0,0])/(cm[0,0]+cm[0,1]))\n",
    "print('Specificity : ', specificity1)"
   ]
  },
  {
   "cell_type": "code",
   "execution_count": null,
   "metadata": {
    "collapsed": true
   },
   "outputs": [],
   "source": [
    "#start network analysis\n",
    "import networkx as net\n",
    "from IPython.display import display\n",
    "\n",
    "g = net.MultiDiGraph()\n",
    "for index, row in maindf.iterrows():\n",
    "    if not isinstance(row[\"reply_to\"],float) and not row[\"reply_to\"]==\"NA\":\n",
    "        #the third entry is how you set the weight\n",
    "        g.add_edge(row[\"from_user\"],row[\"reply_to\"],row[\"retweetCount\"])\n",
    "        #display(row[\"from_user\"] + \" replied to \" + row[\"reply_to\"] + \"which had %s retweets\" %(row[\"retweetCount\"]))\n",
    "print display(net.triadic_census(g))"
   ]
  },
  {
   "cell_type": "markdown",
   "metadata": {},
   "source": [
    "[Conclusion to NLP section]***************************************\n"
   ]
  },
  {
   "cell_type": "markdown",
   "metadata": {},
   "source": [
    "### Part 5: Network Analysis"
   ]
  },
  {
   "cell_type": "markdown",
   "metadata": {},
   "source": [
    "[Introduction to Network section]***************************************\n"
   ]
  },
  {
   "cell_type": "code",
   "execution_count": 51,
   "metadata": {},
   "outputs": [
    {
     "data": {
      "image/png": "[encoded data removed]",
      "text/plain": [
       "<matplotlib.figure.Figure at 0xd354a20>"
      ]
     },
     "metadata": {},
     "output_type": "display_data"
    }
   ],
   "source": [
    "#set figure size and axes\n",
    "plt.figure(figsize = (10, 10))\n",
    "plt.axis('off')\n",
    "\n",
    "#define G\n",
    "G = nx.Graph()\n",
    "\n",
    "#useredges without weights\n",
    "useredges = [('cavs', 'KingJames'), ('cavs', 'KingJames'), ('DwyaneWade', 'CP3'), ('KDTrey5', 'warriors'), ('KingJames', 'JHarden13'), ('Lakers', 'MagicJohnson'),('SteveNash','swish41'),('warriors','KDTrey5'),('warriors','StephenCurry30')]\n",
    "             \n",
    "G.add_edges_from(useredges)\n",
    "\n",
    "pos=nx.spring_layout(G)\n",
    "\n",
    "#without weights\n",
    "nx.draw_networkx(G, pos)"
   ]
  },
  {
   "cell_type": "markdown",
   "metadata": {},
   "source": [
    "Edge weights\n",
    "\n",
    "cavs-KingJames\t6\n",
    "\n",
    "DwyaneWade-CP3\t1\n",
    "\n",
    "KDTrey5-warriors\t2\n",
    "\n",
    "KingJames-JHarden13\t2\n",
    "\n",
    "Lakers-MagicJohnson\t2\n",
    "\n",
    "SteveNash-swish41\t3\n",
    "\n",
    "warriors-KDTrey5\t2\n",
    "\n",
    "warriors-StephenCurry30\t17"
   ]
  },
  {
   "cell_type": "markdown",
   "metadata": {},
   "source": [
    "#### Test if the graph is connected."
   ]
  },
  {
   "cell_type": "markdown",
   "metadata": {},
   "source": [
    "The graph is not connected, as evidenced by the tweet replies and mentions."
   ]
  },
  {
   "cell_type": "code",
   "execution_count": 52,
   "metadata": {},
   "outputs": [
    {
     "data": {
      "text/plain": [
       "False"
      ]
     },
     "execution_count": 52,
     "metadata": {},
     "output_type": "execute_result"
    }
   ],
   "source": [
    "nx.is_connected(G) "
   ]
  },
  {
   "cell_type": "markdown",
   "metadata": {},
   "source": [
    "#### Test if the graph is bipartite."
   ]
  },
  {
   "cell_type": "code",
   "execution_count": 53,
   "metadata": {},
   "outputs": [
    {
     "data": {
      "text/plain": [
       "True"
      ]
     },
     "execution_count": 53,
     "metadata": {},
     "output_type": "execute_result"
    }
   ],
   "source": [
    "bipartite.is_bipartite(G)"
   ]
  },
  {
   "cell_type": "markdown",
   "metadata": {},
   "source": [
    "The graph is bipartite."
   ]
  },
  {
   "cell_type": "markdown",
   "metadata": {},
   "source": [
    "#### Show the number of nodes and edges and the average degree."
   ]
  },
  {
   "cell_type": "code",
   "execution_count": 54,
   "metadata": {},
   "outputs": [
    {
     "name": "stdout",
     "output_type": "stream",
     "text": [
      "Name: \n",
      "Type: Graph\n",
      "Number of nodes: 12\n",
      "Number of edges: 7\n",
      "Average degree:   1.1667\n"
     ]
    }
   ],
   "source": [
    "print(nx.info(G))"
   ]
  },
  {
   "cell_type": "markdown",
   "metadata": {},
   "source": [
    "The average degree connectivity is the average nearest neighbor degree of nodes with degree k. \n",
    "\n",
    "The graph is not connected. Therefore, we cannot find a measure for center, diameter, and radius."
   ]
  },
  {
   "cell_type": "markdown",
   "metadata": {},
   "source": [
    "#### Show measures for centrality."
   ]
  },
  {
   "cell_type": "code",
   "execution_count": 55,
   "metadata": {},
   "outputs": [
    {
     "data": {
      "text/plain": [
       "{'CP3': 0.0,\n",
       " 'DwyaneWade': 0.0,\n",
       " 'JHarden13': 0.0,\n",
       " 'KDTrey5': 0.0,\n",
       " 'KingJames': 0.01818181818181818,\n",
       " 'Lakers': 0.0,\n",
       " 'MagicJohnson': 0.0,\n",
       " 'StephenCurry30': 0.0,\n",
       " 'SteveNash': 0.0,\n",
       " 'cavs': 0.0,\n",
       " 'swish41': 0.0,\n",
       " 'warriors': 0.01818181818181818}"
      ]
     },
     "execution_count": 55,
     "metadata": {},
     "output_type": "execute_result"
    }
   ],
   "source": [
    "nx.betweenness_centrality(G)"
   ]
  },
  {
   "cell_type": "markdown",
   "metadata": {},
   "source": [
    "#### Show Ego Networks\n"
   ]
  },
  {
   "cell_type": "code",
   "execution_count": 56,
   "metadata": {},
   "outputs": [
    {
     "name": "stdout",
     "output_type": "stream",
     "text": [
      "Name: \n",
      "Type: Graph\n",
      "Number of nodes: 3\n",
      "Number of edges: 2\n",
      "Average degree:   1.3333\n"
     ]
    }
   ],
   "source": [
    "nx.ego_graph(G, 'KingJames')\n",
    "ego_net=nx.ego_graph(G, 'KingJames')\n",
    "print(nx.info(ego_net))"
   ]
  },
  {
   "cell_type": "code",
   "execution_count": 57,
   "metadata": {},
   "outputs": [
    {
     "data": {
      "text/plain": [
       "<matplotlib.figure.Figure at 0xd832588>"
      ]
     },
     "execution_count": 57,
     "metadata": {},
     "output_type": "execute_result"
    },
    {
     "data": {
      "image/png": "[encoded data removed]",
      "text/plain": [
       "<matplotlib.figure.Figure at 0xd3f21d0>"
      ]
     },
     "metadata": {},
     "output_type": "display_data"
    },
    {
     "data": {
      "text/plain": [
       "<matplotlib.figure.Figure at 0xd832588>"
      ]
     },
     "metadata": {},
     "output_type": "display_data"
    }
   ],
   "source": [
    "pos=nx.shell_layout(ego_net)\n",
    "nx.draw_networkx(ego_net, pos, node_size=800, node_color='#76448A')\n",
    "plt.axis('off')\n",
    "plt.figure(figsize = (10, 10))"
   ]
  },
  {
   "cell_type": "code",
   "execution_count": 58,
   "metadata": {},
   "outputs": [
    {
     "name": "stdout",
     "output_type": "stream",
     "text": [
      "\tThe number of nodes connected to KingJames: 2\n",
      "\n"
     ]
    }
   ],
   "source": [
    "print(\"\\tThe number of nodes connected to KingJames: \" + \n",
    "      str(len(G.neighbors('KingJames'))) +  \"\\n\")"
   ]
  },
  {
   "cell_type": "markdown",
   "metadata": {},
   "source": [
    "[Conclusion to Network section]***************************************\n",
    "\n",
    "The eccentricity of a node v is the maximum distance from v to all other nodes in G. The radius is the minimum eccentricity. The diameter is the maximum eccentricity.\n",
    "\n",
    "Again the degree and node calculations are verified by the graph projection. A highly connected node has a higher degree and more graph edges."
   ]
  },
  {
   "cell_type": "markdown",
   "metadata": {},
   "source": [
    "### Part 6: Conclusion\n",
    "\n",
    "[Brief summary of each section; explanation of what we learned; comparison to what we predicted; technical and conceptual challenges we faced] \n"
   ]
  }
 ],
 "metadata": {
  "kernelspec": {
   "display_name": "Python 3",
   "language": "python",
   "name": "python3"
  },
  "language_info": {
   "codemirror_mode": {
    "name": "ipython",
    "version": 3
   },
   "file_extension": ".py",
   "mimetype": "text/x-python",
   "name": "python",
   "nbconvert_exporter": "python",
   "pygments_lexer": "ipython3",
   "version": "3.6.1"
  }
 },
 "nbformat": 4,
 "nbformat_minor": 2
}
